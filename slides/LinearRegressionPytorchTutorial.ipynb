{
 "cells": [
  {
   "cell_type": "markdown",
   "metadata": {},
   "source": [
    "# Gentle Introduction to Pytorch Autograd with Linear Regression\n",
    "#### By Michael Przystupa\n"
   ]
  },
  {
   "cell_type": "markdown",
   "metadata": {},
   "source": [
    "** By the end of this tutorial students will be able to:**:\n",
    "- Analytically solve a linear regression\n",
    "- Explain what pytorch automatically handles with it's autograd library\n",
    "- Construct a linear model using the pytorch module\n"
   ]
  },
  {
   "cell_type": "markdown",
   "metadata": {},
   "source": [
    "## Introduction\n",
    "\n",
    "Linear regression is a fairly common practise and is a good starting place with introducing you building models using the pytorch library. We'll start by showing how analytically you can solve linear regression analytically which we can use to compare how our pytorch model compares. \n",
    "\n",
    "First, let's import the libraries we'll need: \n"
   ]
  },
  {
   "cell_type": "code",
   "execution_count": 12,
   "metadata": {
    "collapsed": true
   },
   "outputs": [],
   "source": [
    "import torch\n",
    "import torch.nn as nn\n",
    "import torch.optim as optim\n",
    "import torch.nn.functional as F \n",
    "import numpy as np\n",
    "import matplotlib.pyplot as plt\n",
    "#just your typical imports in python "
   ]
  },
  {
   "cell_type": "markdown",
   "metadata": {},
   "source": [
    "## The Data Set\n",
    "\n",
    "We'll be working with a toy dataset which is just a linear function with added guassian noise:\n",
    "\\begin{equation}\n",
    " f(x) = ax + b + N(0, 1) \n",
    "\\end{equation}\n",
    "In real machine learning, your data won't be so nice, but we want something we can easily look at to get some intuition about how the model works. \n",
    "\n",
    "** note ** : In general, we do not KNOW the function our data came from. That's why we want to build models to try and approximate something that looks like our data COULD have come from it."
   ]
  },
  {
   "cell_type": "code",
   "execution_count": 13,
   "metadata": {},
   "outputs": [
    {
     "data": {
      "image/png": "[encoded data removed]",
      "text/plain": [
       "<matplotlib.figure.Figure at 0x7f2a1325a150>"
      ]
     },
     "metadata": {},
     "output_type": "display_data"
    }
   ],
   "source": [
    "def f( x, a= 2.0, b = 1.0, add_noise=True):\n",
    "    if add_noise:\n",
    "        n = np.random.normal(0.0, 1.0)\n",
    "    else:\n",
    "            n = 0.0\n",
    "    return a * x + b + n\n",
    "\n",
    "X = np.linspace(-5.0, 5.0, num= 200)\n",
    "y = np.array([f(x) for x in X])\n",
    "\n",
    "plt.plot(X, y, 'g^')\n",
    "plt.show()\n"
   ]
  },
  {
   "cell_type": "markdown",
   "metadata": {},
   "source": [
    "## Analytically\n",
    "Clearly, there is some relationship in this data, and we'd like to represent this some how with a function of the form\n",
    "\\begin{equation}\n",
    "w_{1} x + w_{2} = \\hat y\n",
    "\\end{equation}\n",
    "\n",
    "In machine learning, to find these w's we generally want to have some objective to see how good the weights are. One example is minimizing the mean-squared error which for our equation looks like this:\n",
    "\\begin{equation}\n",
    "Objective(w) = \\sum_{i=1}^{n} (w_{1} x_{i} + w_{2} + - y_{i}) ^{2}\n",
    "\\end{equation}\n",
    "\n",
    "You'll have to trust me on this, but we can solve this directly by doing the following manipulation:\n",
    "\\begin{equation}\n",
    "w = (X^{t} X)^{-1} (X^{t} y)\n",
    "\\end{equation}\n",
    "\n",
    "where X is our data matrix and y is our labels, and w is our weights we want to parameterize"
   ]
  },
  {
   "cell_type": "code",
   "execution_count": 14,
   "metadata": {},
   "outputs": [
    {
     "name": "stdout",
     "output_type": "stream",
     "text": [
      "w_0 = [ 1.96972397], w_1 = [ 1.08184388]\n"
     ]
    },
    {
     "data": {
      "image/png": "[encoded data removed]",
      "text/plain": [
       "<matplotlib.figure.Figure at 0x7f2a133f2610>"
      ]
     },
     "metadata": {},
     "output_type": "display_data"
    }
   ],
   "source": [
    "# Solving problem analytically:\n",
    "X = np.stack((X, np.ones(X.shape[0])), axis=1) #this is so we have w_{2}\n",
    "y = np.array([y]).transpose() # has to do with shape of data\n",
    "X_t = X.transpose() \n",
    "\n",
    "#Calculating each of the components\n",
    "X_tX = np.matmul(X_t, X)\n",
    "X_ty = np.matmul(X_t, y)\n",
    "w = np.matmul(np.linalg.inv(X_tX) , (X_ty))\n",
    "\n",
    "#this will show the best weights we can do with the data\n",
    "print('w_0 = {}, w_1 = {}'.format(w[0], w[1]))\n",
    "\n",
    "#Plotting our approximations of true values\n",
    "\n",
    "#lambda is a key word in python for defining smaller functions\n",
    "lin_model = lambda x : f(x, w[0], w[1], add_noise=False)\n",
    "y_hat = [lin_model(x) for x in X[:,0]]\n",
    "\n",
    "plt.plot(X[:,0], y, 'g^')\n",
    "plt.plot(X[:,0], y_hat, 'r--')\n",
    "plt.show()\n"
   ]
  },
  {
   "cell_type": "markdown",
   "metadata": {},
   "source": [
    "This is all well and good...if you can calculate your inverse. In that case, you're going to have to get creative and do some optimization. "
   ]
  },
  {
   "cell_type": "markdown",
   "metadata": {},
   "source": [
    "## Stochastic Gradient Descent  (S.G.D)\n",
    "\n",
    "This can be fairly math heavy, but here's the gist of what we're going to do:\n",
    "\\begin{equation}\n",
    "    w = w - \\alpha * \\nabla Objective(w)\n",
    "\\end{equation}\n",
    "\n",
    "where $\\alpha$ is referred to as the learning rate and is the amount we will update our current weights by at each step and $\\nabla Objective(w)$ means we want to take the gradient with respect to our loss. One minor thing with this is that in S.G.D. we are making updates based off single examples in our data and this is done usually for performance reasons (although there is theory about why it works well too). \n",
    "\n",
    "Maybe this all seems a little scary, particularly if you're not sure what  a gradient is. Thankfully, pytorch makes it so you don't need to pull out your old calculus textbook and handles calculating these for us as we'll see."
   ]
  },
  {
   "cell_type": "markdown",
   "metadata": {},
   "source": [
    "## Pytorch's autograd system\n",
    "\n",
    "The most useful part of pytorch is the autograd system. The gist of it is that it will automatically calculate gradients for any operations done on a pytorch tensor, so we have to say good bye to our good friend numpy, which is easy to do:"
   ]
  },
  {
   "cell_type": "code",
   "execution_count": 15,
   "metadata": {
    "collapsed": true
   },
   "outputs": [],
   "source": [
    "X = torch.from_numpy(X).float()\n",
    "y = torch.from_numpy(y).float()\n",
    "\n",
    "# Now, to do SGD we'll need a learning rate and an initial set of weights:\n",
    "alpha = 1e-3\n",
    "w = torch.randn(2, requires_grad=True) #requires grad is key to do this"
   ]
  },
  {
   "cell_type": "markdown",
   "metadata": {},
   "source": [
    "To use pytorch's autograd feature, we're going to calculate the prediction with our current weights and call backward on our loss function. When you call .backward() on a tensor of interest, it calculates the gradient and we can access it with the .grad field of tensors to do our update"
   ]
  },
  {
   "cell_type": "code",
   "execution_count": 16,
   "metadata": {},
   "outputs": [
    {
     "name": "stderr",
     "output_type": "stream",
     "text": [
      "/home/mprzystupa/anaconda2/lib/python2.7/site-packages/ipykernel_launcher.py:9: UserWarning: invalid index of a 0-dim tensor. This will be an error in PyTorch 0.5. Use tensor.item() to convert a 0-dim tensor to a Python number\n",
      "  if __name__ == '__main__':\n"
     ]
    },
    {
     "name": "stdout",
     "output_type": "stream",
     "text": [
      "Loss on epoch 0:  15.95085129\n",
      "Loss on epoch 1:  1.26909185622\n",
      "Loss on epoch 2:  1.10887930466\n",
      "Loss on epoch 3:  1.05333386042\n",
      "Loss on epoch 4:  1.02935324583\n",
      "Loss on epoch 5:  1.01903245275\n",
      "Loss on epoch 6:  1.01468058052\n",
      "Loss on epoch 7:  1.01290969603\n",
      "Loss on epoch 8:  1.01223487893\n",
      "Loss on epoch 9:  1.01201125071\n",
      "tensor([1.9353, 1.0800], requires_grad=True)\n"
     ]
    }
   ],
   "source": [
    "order = torch.randperm(X.size()[0])\n",
    "\n",
    "#redefine our linear model to use the tensor version of w\n",
    "for _ in range(0, 10):\n",
    "    total_loss = 0.0\n",
    "    for i in order:\n",
    "        x = X[i,:]\n",
    "        y_hat = torch.matmul(x, w) #ax + b esentially\n",
    "        loss = F.mse_loss(y_hat[0], y[i,0]) #our objective function\n",
    "        loss.backward() #where our gradients get calculated\n",
    "        total_loss += loss.item()\n",
    "        with torch.no_grad():\n",
    "            w -=  alpha * w.grad\n",
    "            w.grad.zero_()\n",
    "    print('Loss on epoch {}:  {}'.format(_, total_loss / X.size()[0]))\n",
    "    \n",
    "print(w)\n"
   ]
  },
  {
   "cell_type": "code",
   "execution_count": 17,
   "metadata": {},
   "outputs": [
    {
     "data": {
      "image/png": "[encoded data removed]",
      "text/plain": [
       "<matplotlib.figure.Figure at 0x7f2a1bf6f790>"
      ]
     },
     "metadata": {},
     "output_type": "display_data"
    }
   ],
   "source": [
    "\n",
    "X = X.numpy()\n",
    "y = y.numpy()\n",
    "w = w.detach().numpy()\n",
    "lin_model = lambda x : f(x, w[0], w[1], add_noise=False)\n",
    "y_hat = [lin_model(x) for x in X[:,0]]\n",
    "\n",
    "plt.plot(X[:,0], y, 'g^')\n",
    "plt.plot(X[:,0], y_hat, 'r--')\n",
    "plt.show()"
   ]
  },
  {
   "cell_type": "markdown",
   "metadata": {},
   "source": [
    "As we can see, our model now performsabout the same as our analytical solution, but the advantage is that doing it this way is always possible and doesn't rely on our inverse having to exist."
   ]
  },
  {
   "cell_type": "markdown",
   "metadata": {},
   "source": [
    "## Going full Pytorch\n",
    "Now the above loop was to illustrate what pytorch is doing. We cheated a little bit by also using the .backward() call instead of calculating it our selves, but that's the reason WHY these deep learning frameworks are great, because you don't HAVE to do this all by hand. \n",
    "\n"
   ]
  },
  {
   "cell_type": "code",
   "execution_count": 18,
   "metadata": {},
   "outputs": [
    {
     "name": "stdout",
     "output_type": "stream",
     "text": [
      "Loss on epoch 0:  6.78612589448\n",
      "Loss on epoch 1:  1.79111157393\n",
      "Loss on epoch 2:  1.35706431062\n",
      "Loss on epoch 3:  1.16379238749\n",
      "Loss on epoch 4:  1.07747364214\n",
      "Loss on epoch 5:  1.03893169308\n",
      "Loss on epoch 6:  1.02172259411\n",
      "Loss on epoch 7:  1.01403922095\n",
      "Loss on epoch 8:  1.01060867648\n",
      "Loss on epoch 9:  1.0090773141\n"
     ]
    },
    {
     "data": {
      "image/png": "[encoded data removed]",
      "text/plain": [
       "<matplotlib.figure.Figure at 0x7f2a13075050>"
      ]
     },
     "metadata": {},
     "output_type": "display_data"
    }
   ],
   "source": [
    "X = torch.from_numpy(X).float()\n",
    "y = torch.from_numpy(y).float()\n",
    "\n",
    "\n",
    "class LinRegression(nn.Module):\n",
    "    def __init__(self):\n",
    "        super(LinRegression, self).__init__()\n",
    "        self.linear = nn.Linear(2, 1, bias=False )\n",
    "        #the bias term is generally set to True, but we added the 1's column to x\n",
    "    \n",
    "    def forward(self, x):\n",
    "        return self.linear(x)\n",
    "    \n",
    "model = LinRegression()\n",
    "sgd = optim.SGD(model.parameters(), lr=1e-3)\n",
    "order = torch.randperm(X.size()[0])\n",
    "for _ in range(0, 10):\n",
    "    total_loss = 0.0\n",
    "    for i in order:\n",
    "        x = X[i,:]\n",
    "        y_hat = model(x)\n",
    "        loss = F.mse_loss(y_hat[0], y[i,0]) #our objective function\n",
    "        loss.backward() #where our gradients get calculated\n",
    "        total_loss += loss.item()\n",
    "        sgd.step()\n",
    "        sgd.zero_grad()\n",
    "    print('Loss on epoch {}:  {}'.format(_, total_loss / X.size()[0]))\n",
    "    \n",
    "y_hat = model(X)\n",
    "\n",
    "y_hat = y_hat.detach().numpy()\n",
    "X = X.numpy()\n",
    "y = y.numpy()\n",
    "\n",
    "plt.plot(X[:,0], y, 'g^')\n",
    "plt.plot(X[:,0], y_hat, 'r--')\n",
    "plt.show()\n"
   ]
  },
  {
   "cell_type": "markdown",
   "metadata": {},
   "source": [
    "## Conclusions\n",
    "\n",
    "In this tutorial we've seen how to solve linear regression using pytorch's autograd system and how to build models with pytorch. We saw several pytorch packages including torch, torch.optim, torch.nn, and torch.nn.functional. We then saw how to use these modules together to train our model. \n"
   ]
  },
  {
   "cell_type": "markdown",
   "metadata": {},
   "source": [
    "## Exercise: Logistic Regression\n",
    "Logistic regression is a sort of extension of linear regression for the classification setting. \n",
    "\n",
    "Using what you've seen in this tutorial and class, build a logistic regression model to train a model for the following toy dataset:\n"
   ]
  },
  {
   "cell_type": "code",
   "execution_count": 19,
   "metadata": {},
   "outputs": [
    {
     "data": {
      "image/png": "[encoded data removed]",
      "text/plain": [
       "<matplotlib.figure.Figure at 0x7f2a13017e90>"
      ]
     },
     "metadata": {},
     "output_type": "display_data"
    }
   ],
   "source": [
    "def f(x):\n",
    "    if x > 0.0:\n",
    "        return 1.0\n",
    "    else:\n",
    "        return 0.0\n",
    "\n",
    "X = np.linspace(-5.0, 5.0, num= 200)\n",
    "y = np.array([f(x) for x in X])\n",
    "\n",
    "plt.plot(X, y, 'g^')\n",
    "plt.show()"
   ]
  },
  {
   "cell_type": "code",
   "execution_count": null,
   "metadata": {
    "collapsed": true
   },
   "outputs": [],
   "source": [
    "#starter code:\n",
    "X = torch.from_numpy(X)\n",
    "y = torch.from_numpy(y)\n",
    "class LogisticRegression(nn.Module):\n",
    "    def __init__(self):\n",
    "        super(LogisticRegression, self).__init__()\n",
    "        #insert code here\n",
    "    def forward(self, x):\n",
    "        #insert code \n",
    "        return x\n",
    "    \n",
    "# some set-up\n",
    "order = torch.randperm(X.size()[0])\n",
    "#training loop\n",
    "for _ in range(0, 10):\n",
    "    total_loss = 0.0\n",
    "    for i in order:\n",
    "        x = X[i]\n",
    "        y_hat = model(x)\n",
    "        #insert call to loss function here\n",
    "        \n",
    "        loss.backward() #where our gradients get calculated\n",
    "        total_loss += loss.item()\n",
    "        sgd.step()\n",
    "        sgd.zero_grad()\n",
    "    print('Loss on epoch {}:  {}'.format(_, total_loss / X.size()[0]))\n",
    "    \n",
    "y_hat = model(X)\n",
    "y_hat = y_hat.detach().numpy()\n",
    "X = X.numpy()\n",
    "y = y.numpy()\n",
    "\n",
    "plt.plot(X[:,0], y, 'g^')\n",
    "plt.plot(X[:,0], y_hat, 'r--')\n",
    "plt.show()\n"
   ]
  }
 ],
 "metadata": {
  "kernelspec": {
   "display_name": "Python 2",
   "language": "python",
   "name": "python2"
  },
  "language_info": {
   "codemirror_mode": {
    "name": "ipython",
    "version": 2
   },
   "file_extension": ".py",
   "mimetype": "text/x-python",
   "name": "python",
   "nbconvert_exporter": "python",
   "pygments_lexer": "ipython2",
   "version": "2.7.12"
  }
 },
 "nbformat": 4,
 "nbformat_minor": 2
}
